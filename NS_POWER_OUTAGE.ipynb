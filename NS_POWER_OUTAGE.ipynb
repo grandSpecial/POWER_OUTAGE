{
 "cells": [
  {
   "cell_type": "code",
   "execution_count": 84,
   "metadata": {},
   "outputs": [],
   "source": [
    "from selenium.webdriver import Firefox\n",
    "from selenium.webdriver.common.keys import Keys\n",
    "from selenium.webdriver.support.ui import WebDriverWait\n",
    "from selenium.webdriver.firefox.options import Options\n",
    "from selenium.webdriver.support import expected_conditions as EC\n",
    "import requests\n",
    "from bs4 import BeautifulSoup"
   ]
  },
  {
   "cell_type": "code",
   "execution_count": 57,
   "metadata": {},
   "outputs": [],
   "source": [
    "# get total number of active power outages in Nova Scotia\n",
    "def outages_all():\n",
    "    url = \"http://outagemap.nspower.ca/external/default.html\"\n",
    "    options = Options()\n",
    "    options.add_argument('-headless')\n",
    "    driver = Firefox(executable_path='geckodriver', options=options)\n",
    "    driver.get(url)\n",
    "    soup = BeautifulSoup(driver.page_source, 'html.parser')\n",
    "    return int([i.get_text().replace(\",\",\"\") for i in soup.find_all(\"div\",\"total-customers-affected-value\")][0])"
   ]
  },
  {
   "cell_type": "code",
   "execution_count": 184,
   "metadata": {},
   "outputs": [],
   "source": [
    "# returns a dictionary of regions and their number o\n",
    "def outages_combined():\n",
    "    url = \"http://outagemap.nspower.ca/external/default.html\"\n",
    "    options = Options()\n",
    "    options.add_argument('-headless')\n",
    "    driver = Firefox(executable_path='geckodriver', options=options)\n",
    "    driver.get(url)\n",
    "\n",
    "    x1 = driver.find_element_by_xpath('//*[@id=\"menu-content\"]/a[2]')\n",
    "    x1.click()\n",
    "\n",
    "    x2 = driver.find_element_by_xpath('//*[@id=\"view-summary-serviceArea\"]')\n",
    "    x2.click()\n",
    "\n",
    "    driver.implicitly_wait(10)\n",
    "\n",
    "    outs = {}\n",
    "    #second last index: increase by 1 up to 34 \n",
    "    count = 4\n",
    "    for i in range(31):\n",
    "        county = driver.find_element_by_xpath(f'//*[@id=\"report-panel-serviceArea-table\"]/tbody/tr[{count}]/td[1]')\n",
    "        outages = driver.find_element_by_xpath(f'//*[@id=\"report-panel-serviceArea-table\"]/tbody/tr[{count}]/td[2]')\n",
    "        outs[county.text] = outages.text\n",
    "        count += 1\n",
    "\n",
    "    del outs['']\n",
    "\n",
    "    al = {}\n",
    "    for k,v in outs.items():\n",
    "        try:\n",
    "            a = v.replace(',','')\n",
    "            al[k] = int(a)\n",
    "        except:\n",
    "            al[k] = 5\n",
    "    al['ALL'] = sum([v for k,v in al.items()])\n",
    "    \n",
    "    return al"
   ]
  },
  {
   "cell_type": "code",
   "execution_count": 185,
   "metadata": {},
   "outputs": [
    {
     "data": {
      "text/plain": [
       "{'ALL': 16131,\n",
       " 'ANTIGONISH': 240,\n",
       " 'BRIDGEWATER': 3275,\n",
       " 'CHESTER': 9,\n",
       " 'CHETICAMP': 139,\n",
       " 'DARTMOUTH': 1980,\n",
       " 'HALIFAX': 7169,\n",
       " 'LIVERPOOL': 46,\n",
       " 'MABOU': 668,\n",
       " 'PORT HAWKESBURY': 25,\n",
       " 'RIVER BOURGEOIS': 1850,\n",
       " 'SACKVILLE': 51,\n",
       " 'SHEET HARBOUR': 160,\n",
       " \"ST. MARGARET'S BAY\": 158,\n",
       " 'STELLARTON': 308,\n",
       " 'SYDNEY': 38,\n",
       " 'TRURO': 5,\n",
       " 'UPPER MUSQUODOBOIT': 5,\n",
       " 'WINDSOR': 5}"
      ]
     },
     "execution_count": 185,
     "metadata": {},
     "output_type": "execute_result"
    }
   ],
   "source": [
    "outages()"
   ]
  },
  {
   "cell_type": "code",
   "execution_count": null,
   "metadata": {
    "collapsed": true
   },
   "outputs": [],
   "source": []
  }
 ],
 "metadata": {
  "kernelspec": {
   "display_name": "Python 3",
   "language": "python",
   "name": "python3"
  },
  "language_info": {
   "codemirror_mode": {
    "name": "ipython",
    "version": 3
   },
   "file_extension": ".py",
   "mimetype": "text/x-python",
   "name": "python",
   "nbconvert_exporter": "python",
   "pygments_lexer": "ipython3",
   "version": "3.6.3"
  }
 },
 "nbformat": 4,
 "nbformat_minor": 2
}
